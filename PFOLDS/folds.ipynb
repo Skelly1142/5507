{
 "cells": [
  {
   "cell_type": "code",
   "execution_count": null,
   "metadata": {},
   "outputs": [
    {
     "name": "stdout",
     "output_type": "stream",
     "text": [
      "Available Residues: [1, 2, 3, 4, 5, 6, 7, 8, 9]\n"
     ]
    },
    {
     "data": {
      "application/vnd.jupyter.widget-view+json": {
       "model_id": "53bad735b6ce461097ef0966998f7341",
       "version_major": 2,
       "version_minor": 0
      },
      "text/plain": [
       "IntText(value=1, description='Residue:')"
      ]
     },
     "metadata": {},
     "output_type": "display_data"
    },
    {
     "data": {
      "application/vnd.jupyter.widget-view+json": {
       "model_id": "917ff784c9bd47d7bb240f8f909ab593",
       "version_major": 2,
       "version_minor": 0
      },
      "text/plain": [
       "Dropdown(description='PTM:', options=('None', 'Phosphorylation', 'Acetylation', 'Methylation'), value='None')"
      ]
     },
     "metadata": {},
     "output_type": "display_data"
    },
    {
     "data": {
      "application/vnd.jupyter.widget-view+json": {
       "model_id": "5189b60a543841b28f3be82c7b6281cb",
       "version_major": 2,
       "version_minor": 0
      },
      "text/plain": [
       "Button(description='Apply Modification', style=ButtonStyle())"
      ]
     },
     "metadata": {},
     "output_type": "display_data"
    },
    {
     "data": {
      "application/vnd.jupyter.widget-view+json": {
       "model_id": "3beadd884e7940809da2e63832417f3f",
       "version_major": 2,
       "version_minor": 0
      },
      "text/plain": [
       "Button(description='Remove Modification', style=ButtonStyle())"
      ]
     },
     "metadata": {},
     "output_type": "display_data"
    },
    {
     "data": {
      "application/vnd.jupyter.widget-view+json": {
       "model_id": "30dbcc2fc14741409458157c4d94f071",
       "version_major": 2,
       "version_minor": 0
      },
      "text/plain": [
       "Button(description='Dehydrate Residue', style=ButtonStyle())"
      ]
     },
     "metadata": {},
     "output_type": "display_data"
    },
    {
     "data": {
      "application/vnd.jupyter.widget-view+json": {
       "model_id": "28554301328649a58b50369394f73194",
       "version_major": 2,
       "version_minor": 0
      },
      "text/plain": [
       "Button(description='Save PDB File', style=ButtonStyle())"
      ]
     },
     "metadata": {},
     "output_type": "display_data"
    },
    {
     "data": {
      "application/vnd.jupyter.widget-view+json": {
       "model_id": "753f8e4973b7451180027f6542076299",
       "version_major": 2,
       "version_minor": 0
      },
      "text/plain": [
       "Output()"
      ]
     },
     "metadata": {},
     "output_type": "display_data"
    }
   ],
   "source": [
    "import py3Dmol\n",
    "import ipywidgets as widgets\n",
    "from IPython.display import display, clear_output\n",
    "from tkinter import Tk, filedialog\n",
    "from Bio import PDB\n",
    "import shutil\n",
    "\n",
    "# Global viewer variable to maintain state\n",
    "viewer = None\n",
    "modified_pdb_path = \"modified_structure.pdb\"\n",
    "\n",
    "def load_pdb_file():\n",
    "    root = Tk()\n",
    "    root.withdraw()\n",
    "    pdb_path = filedialog.askopenfilename(title=\"Select PDB File\", filetypes=[(\"PDB files\", \"*.pdb\")])\n",
    "    if pdb_path:\n",
    "        with open(pdb_path, \"r\") as file:\n",
    "            pdb_data = file.read()\n",
    "        shutil.copy(pdb_path, modified_pdb_path)  # Create a modifiable copy\n",
    "        return pdb_data, pdb_path\n",
    "    return None, None\n",
    "\n",
    "def modify_pdb(residue_number, modification, remove=False, dehydrate=False):\n",
    "    parser = PDB.PDBParser(QUIET=True)\n",
    "    structure = parser.get_structure(\"protein\", modified_pdb_path)\n",
    "    io = PDB.PDBIO()\n",
    "\n",
    "    ptm_atoms = {\n",
    "        \"Phosphorylation\": [\"P\", \"O1\", \"O2\", \"O3\"],  \n",
    "        \"Acetylation\": [\"C1\", \"O1\", \"CH3\"],  \n",
    "        \"Methylation\": [\"C1\", \"H1\", \"H2\", \"H3\"]  \n",
    "    }\n",
    "    dehydration_atoms = [\"HOH\", \"O\"]  # Water molecules to remove\n",
    "\n",
    "    for model in structure:\n",
    "        for chain in model:\n",
    "            for residue in chain:\n",
    "                if residue.id[1] == residue_number:\n",
    "                    if dehydrate:\n",
    "                        # Remove water molecules from the selected residue\n",
    "                        for atom_name in dehydration_atoms:\n",
    "                            if atom_name in residue:\n",
    "                                residue.detach_child(atom_name)\n",
    "                    elif remove:\n",
    "                        # Remove PTM atoms if they exist\n",
    "                        for atom_name in ptm_atoms.get(modification, []):\n",
    "                            if atom_name in residue:\n",
    "                                residue.detach_child(atom_name)\n",
    "                    else:\n",
    "                        # Add PTM atoms\n",
    "                        attachment_candidates = {\n",
    "                            \"Phosphorylation\": [\"OG\", \"OH\", \"O\"],\n",
    "                            \"Acetylation\": [\"N\"],\n",
    "                            \"Methylation\": [\"CE\", \"C\"]\n",
    "                        }\n",
    "\n",
    "                        attachment_atom = None\n",
    "                        for atom_name in attachment_candidates.get(modification, []):\n",
    "                            if atom_name in residue:\n",
    "                                attachment_atom = residue[atom_name]\n",
    "                                break\n",
    "\n",
    "                        if not attachment_atom:\n",
    "                            print(f\"⚠️ Warning: No valid attachment atom found in residue {residue_number}. Skipping PTM.\")\n",
    "                            return\n",
    "\n",
    "                        ref_coord = attachment_atom.coord\n",
    "                        offsets = [(1.5, 0.0, 0.0), (2.0, 0.5, 0.5), (2.0, -0.5, -0.5), (2.5, 0.0, 0.0)]\n",
    "\n",
    "                        for atom_name, offset in zip(ptm_atoms[modification], offsets):\n",
    "                            new_coord = (ref_coord[0] + offset[0], ref_coord[1] + offset[1], ref_coord[2] + offset[2])\n",
    "                            new_atom = PDB.Atom.Atom(atom_name, new_coord, 1.0, 0.0, \" \", atom_name, 0, \"C\")\n",
    "                            residue.add(new_atom)\n",
    "\n",
    "    io.set_structure(structure)\n",
    "    io.save(modified_pdb_path)\n",
    "\n",
    "def save_modified_pdb():\n",
    "    root = Tk()\n",
    "    root.withdraw()\n",
    "    save_path = filedialog.asksaveasfilename(defaultextension=\".pdb\", filetypes=[(\"PDB files\", \"*.pdb\")])\n",
    "    if save_path:\n",
    "        shutil.copy(modified_pdb_path, save_path)\n",
    "        print(f\"File saved successfully at: {save_path}\")\n",
    "\n",
    "def visualize_pdb_with_selection(pdb_data):\n",
    "    global viewer\n",
    "    output = widgets.Output()\n",
    "    \n",
    "    parser = PDB.PDBParser(QUIET=True)\n",
    "    structure = parser.get_structure(\"protein\", modified_pdb_path)\n",
    "    available_residues = [residue.id[1] for model in structure for chain in model for residue in chain]\n",
    "    print(\"Available Residues:\", available_residues)\n",
    "    \n",
    "    def update_viewer(residue_number, modification, remove=False, dehydrate=False):\n",
    "        global viewer\n",
    "        with output:\n",
    "            clear_output(wait=True)\n",
    "            print(f\"Selected Residue: {residue_number}\")\n",
    "            \n",
    "            if residue_number not in available_residues:\n",
    "                print(f\"Residue {residue_number} not found in PDB structure.\")\n",
    "                return\n",
    "            \n",
    "            if dehydrate:\n",
    "                display(widgets.Label(f\"Dehydrating Residue {residue_number}...\"))\n",
    "                modify_pdb(residue_number, modification, dehydrate=True)\n",
    "            elif remove:\n",
    "                display(widgets.Label(f\"Removing PTM from Residue {residue_number}...\"))\n",
    "                modify_pdb(residue_number, modification, remove=True)\n",
    "            else:\n",
    "                display(widgets.Label(f\"Applying {modification} to Residue {residue_number}...\"))\n",
    "                modify_pdb(residue_number, modification)\n",
    "            \n",
    "            if viewer:\n",
    "                viewer.removeAllModels()\n",
    "\n",
    "            viewer = py3Dmol.view(width=800, height=600)\n",
    "            with open(modified_pdb_path, \"r\") as file:\n",
    "                modified_pdb_data = file.read()\n",
    "            viewer.addModel(modified_pdb_data, \"pdb\")\n",
    "            \n",
    "            viewer.setStyle({\"cartoon\": {\"color\": \"spectrum\"}})\n",
    "            viewer.addStyle({\"resi\": str(residue_number)}, {\"stick\": {\"color\": \"red\"}})\n",
    "            viewer.zoomTo()\n",
    "            display(viewer.show())\n",
    "    \n",
    "    residue_selector = widgets.IntText(value=1, description='Residue:', continuous_update=False)\n",
    "    ptm_selector = widgets.Dropdown(\n",
    "        options=[\"None\", \"Phosphorylation\", \"Acetylation\", \"Methylation\"],\n",
    "        value=\"None\",\n",
    "        description='PTM:'\n",
    "    )\n",
    "    apply_button = widgets.Button(description=\"Apply Modification\")\n",
    "    remove_button = widgets.Button(description=\"Remove Modification\")\n",
    "    dehydrate_button = widgets.Button(description=\"Dehydrate Residue\")\n",
    "    save_button = widgets.Button(description=\"Save PDB File\")\n",
    "    \n",
    "    save_button.on_click(lambda b: save_modified_pdb())\n",
    "    apply_button.on_click(lambda b: update_viewer(residue_selector.value, ptm_selector.value, remove=False))\n",
    "    remove_button.on_click(lambda b: update_viewer(residue_selector.value, ptm_selector.value, remove=True))\n",
    "    dehydrate_button.on_click(lambda b: update_viewer(residue_selector.value, ptm_selector.value, dehydrate=True))\n",
    "    \n",
    "    display(residue_selector, ptm_selector, apply_button, remove_button, dehydrate_button, save_button, output)\n",
    "    \n",
    "    with output:\n",
    "        clear_output(wait=True)\n",
    "        print(\"Select a residue and PTM, then click 'Apply Modification', 'Remove Modification', or 'Dehydrate Residue' to update the structure.\")\n",
    "\n",
    "pdb_data, pdb_path = load_pdb_file()\n",
    "if pdb_data:\n",
    "    visualize_pdb_with_selection(pdb_data)\n",
    "else:\n",
    "    print(\"No PDB file selected.\")\n",
    "\n",
    "\n"
   ]
  }
 ],
 "metadata": {
  "kernelspec": {
   "display_name": "base",
   "language": "python",
   "name": "python3"
  },
  "language_info": {
   "codemirror_mode": {
    "name": "ipython",
    "version": 3
   },
   "file_extension": ".py",
   "mimetype": "text/x-python",
   "name": "python",
   "nbconvert_exporter": "python",
   "pygments_lexer": "ipython3",
   "version": "3.12.7"
  }
 },
 "nbformat": 4,
 "nbformat_minor": 2
}
